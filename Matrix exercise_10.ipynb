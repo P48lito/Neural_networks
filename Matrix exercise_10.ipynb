{
 "cells": [
  {
   "cell_type": "markdown",
   "id": "97aafcb8",
   "metadata": {},
   "source": [
    "1. Below is some indian companies revenues in US dollars. Using numpy can you convert this into Indian rupees? 1 USD = 75 INR"
   ]
  },
  {
   "cell_type": "code",
   "execution_count": 1,
   "id": "e54c2c97",
   "metadata": {},
   "outputs": [],
   "source": [
    "import numpy as np"
   ]
  },
  {
   "cell_type": "code",
   "execution_count": 5,
   "id": "06eec838",
   "metadata": {},
   "outputs": [],
   "source": [
    "array1 = np.array([[200, 220, 250], [68,79,105], [110, 140, 180], [80, 85, 90]])"
   ]
  },
  {
   "cell_type": "code",
   "execution_count": 6,
   "id": "453f7fc7",
   "metadata": {},
   "outputs": [
    {
     "data": {
      "text/plain": [
       "array([[200, 220, 250],\n",
       "       [ 68,  79, 105],\n",
       "       [110, 140, 180],\n",
       "       [ 80,  85,  90]])"
      ]
     },
     "execution_count": 6,
     "metadata": {},
     "output_type": "execute_result"
    }
   ],
   "source": [
    "array1"
   ]
  },
  {
   "cell_type": "code",
   "execution_count": null,
   "id": "f4eddc90",
   "metadata": {},
   "outputs": [],
   "source": [
    "# Result in INR"
   ]
  },
  {
   "cell_type": "code",
   "execution_count": 7,
   "id": "ea0e391a",
   "metadata": {
    "scrolled": true
   },
   "outputs": [
    {
     "data": {
      "text/plain": [
       "array([[15000, 16500, 18750],\n",
       "       [ 5100,  5925,  7875],\n",
       "       [ 8250, 10500, 13500],\n",
       "       [ 6000,  6375,  6750]])"
      ]
     },
     "execution_count": 7,
     "metadata": {},
     "output_type": "execute_result"
    }
   ],
   "source": [
    "array1 * 75"
   ]
  },
  {
   "cell_type": "markdown",
   "id": "ea4a688e",
   "metadata": {},
   "source": [
    "2. Divine flowers is a flower shop that sells different type of flowers. Below is the table showing how many flowers of each type they sold in different months. Also given are the prices of one flower each. Using this find out their total sales in every month."
   ]
  },
  {
   "cell_type": "code",
   "execution_count": 26,
   "id": "7200fae9",
   "metadata": {},
   "outputs": [],
   "source": [
    "unit_sold = np.array([[50, 60, 25],[10,13,5],[40,70,52]])\n",
    "price_per_unit = np.array([20,30,15])"
   ]
  },
  {
   "cell_type": "code",
   "execution_count": 24,
   "id": "c4e4f7d3",
   "metadata": {
    "scrolled": true
   },
   "outputs": [
    {
     "data": {
      "text/plain": [
       "array([[50, 60, 25],\n",
       "       [10, 13,  5],\n",
       "       [40, 70, 52]])"
      ]
     },
     "execution_count": 24,
     "metadata": {},
     "output_type": "execute_result"
    }
   ],
   "source": [
    "unit_sold"
   ]
  },
  {
   "cell_type": "code",
   "execution_count": 27,
   "id": "ff409a3e",
   "metadata": {},
   "outputs": [
    {
     "data": {
      "text/plain": [
       "array([20, 30, 15])"
      ]
     },
     "execution_count": 27,
     "metadata": {},
     "output_type": "execute_result"
    }
   ],
   "source": [
    "price_per_unit"
   ]
  },
  {
   "cell_type": "code",
   "execution_count": 30,
   "id": "d8db75a9",
   "metadata": {
    "scrolled": true
   },
   "outputs": [
    {
     "data": {
      "text/plain": [
       "array([[1000, 1800,  375],\n",
       "       [ 200,  390,   75],\n",
       "       [ 800, 2100,  780]])"
      ]
     },
     "execution_count": 30,
     "metadata": {},
     "output_type": "execute_result"
    }
   ],
   "source": [
    "price_per_unit * unit_sold"
   ]
  },
  {
   "cell_type": "code",
   "execution_count": 29,
   "id": "08b5a87e",
   "metadata": {},
   "outputs": [
    {
     "data": {
      "text/plain": [
       "array([1900, 2640, 1430])"
      ]
     },
     "execution_count": 29,
     "metadata": {},
     "output_type": "execute_result"
    }
   ],
   "source": [
    "np.dot(price_per_unit, unit_sold)"
   ]
  }
 ],
 "metadata": {
  "kernelspec": {
   "display_name": "Python 3 (ipykernel)",
   "language": "python",
   "name": "python3"
  },
  "language_info": {
   "codemirror_mode": {
    "name": "ipython",
    "version": 3
   },
   "file_extension": ".py",
   "mimetype": "text/x-python",
   "name": "python",
   "nbconvert_exporter": "python",
   "pygments_lexer": "ipython3",
   "version": "3.7.10"
  }
 },
 "nbformat": 4,
 "nbformat_minor": 5
}
