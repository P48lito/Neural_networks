{
 "cells": [
  {
   "cell_type": "markdown",
   "id": "4e49a468",
   "metadata": {},
   "source": [
    "# Here we have 4 simple implementations of activation functions"
   ]
  },
  {
   "cell_type": "markdown",
   "id": "76f5bd11",
   "metadata": {},
   "source": [
    "## Sigmoid function"
   ]
  },
  {
   "cell_type": "code",
   "execution_count": 1,
   "id": "0da5befb",
   "metadata": {},
   "outputs": [],
   "source": [
    "import math as mt"
   ]
  },
  {
   "cell_type": "code",
   "execution_count": 2,
   "id": "a41a1e4d",
   "metadata": {
    "scrolled": true
   },
   "outputs": [
    {
     "data": {
      "text/plain": [
       "['__doc__',\n",
       " '__loader__',\n",
       " '__name__',\n",
       " '__package__',\n",
       " '__spec__',\n",
       " 'acos',\n",
       " 'acosh',\n",
       " 'asin',\n",
       " 'asinh',\n",
       " 'atan',\n",
       " 'atan2',\n",
       " 'atanh',\n",
       " 'ceil',\n",
       " 'copysign',\n",
       " 'cos',\n",
       " 'cosh',\n",
       " 'degrees',\n",
       " 'e',\n",
       " 'erf',\n",
       " 'erfc',\n",
       " 'exp',\n",
       " 'expm1',\n",
       " 'fabs',\n",
       " 'factorial',\n",
       " 'floor',\n",
       " 'fmod',\n",
       " 'frexp',\n",
       " 'fsum',\n",
       " 'gamma',\n",
       " 'gcd',\n",
       " 'hypot',\n",
       " 'inf',\n",
       " 'isclose',\n",
       " 'isfinite',\n",
       " 'isinf',\n",
       " 'isnan',\n",
       " 'ldexp',\n",
       " 'lgamma',\n",
       " 'log',\n",
       " 'log10',\n",
       " 'log1p',\n",
       " 'log2',\n",
       " 'modf',\n",
       " 'nan',\n",
       " 'pi',\n",
       " 'pow',\n",
       " 'radians',\n",
       " 'remainder',\n",
       " 'sin',\n",
       " 'sinh',\n",
       " 'sqrt',\n",
       " 'tan',\n",
       " 'tanh',\n",
       " 'tau',\n",
       " 'trunc']"
      ]
     },
     "execution_count": 2,
     "metadata": {},
     "output_type": "execute_result"
    }
   ],
   "source": [
    "dir(mt)"
   ]
  },
  {
   "cell_type": "code",
   "execution_count": 13,
   "id": "c2fbe30f",
   "metadata": {},
   "outputs": [],
   "source": [
    "def sigmoid(z):\n",
    "    return (1 / (1+mt.exp(-z)))"
   ]
  },
  {
   "cell_type": "code",
   "execution_count": 14,
   "id": "f03f7b9d",
   "metadata": {},
   "outputs": [
    {
     "data": {
      "text/plain": [
       "0.9525741268224334"
      ]
     },
     "execution_count": 14,
     "metadata": {},
     "output_type": "execute_result"
    }
   ],
   "source": [
    "sigmoid(3)"
   ]
  },
  {
   "cell_type": "code",
   "execution_count": 15,
   "id": "174c897b",
   "metadata": {},
   "outputs": [
    {
     "data": {
      "text/plain": [
       "8.194012623990515e-40"
      ]
     },
     "execution_count": 15,
     "metadata": {},
     "output_type": "execute_result"
    }
   ],
   "source": [
    "sigmoid(-90)"
   ]
  },
  {
   "cell_type": "markdown",
   "id": "85962a76",
   "metadata": {},
   "source": [
    "## tanh function"
   ]
  },
  {
   "cell_type": "code",
   "execution_count": 16,
   "id": "29b9f1fb",
   "metadata": {},
   "outputs": [],
   "source": [
    "def tanh(z):\n",
    "    return ((mt.exp(z)-mt.exp(-z))/(mt.exp(z)+mt.exp(-z)))"
   ]
  },
  {
   "cell_type": "code",
   "execution_count": 17,
   "id": "ea3ba94b",
   "metadata": {},
   "outputs": [
    {
     "data": {
      "text/plain": [
       "0.9993292997390669"
      ]
     },
     "execution_count": 17,
     "metadata": {},
     "output_type": "execute_result"
    }
   ],
   "source": [
    "tanh(4)"
   ]
  },
  {
   "cell_type": "code",
   "execution_count": 18,
   "id": "c8ac3319",
   "metadata": {},
   "outputs": [
    {
     "data": {
      "text/plain": [
       "-0.7615941559557649"
      ]
     },
     "execution_count": 18,
     "metadata": {},
     "output_type": "execute_result"
    }
   ],
   "source": [
    "tanh(-1)"
   ]
  },
  {
   "cell_type": "code",
   "execution_count": 19,
   "id": "8cf357fa",
   "metadata": {},
   "outputs": [
    {
     "data": {
      "text/plain": [
       "-1.0"
      ]
     },
     "execution_count": 19,
     "metadata": {},
     "output_type": "execute_result"
    }
   ],
   "source": [
    "tanh(-80)"
   ]
  },
  {
   "cell_type": "markdown",
   "id": "c15580f4",
   "metadata": {},
   "source": [
    "## ReLU function"
   ]
  },
  {
   "cell_type": "code",
   "execution_count": 20,
   "id": "dea2f244",
   "metadata": {},
   "outputs": [],
   "source": [
    "def ReLU(z):\n",
    "    return max(0,z)"
   ]
  },
  {
   "cell_type": "code",
   "execution_count": 21,
   "id": "f4a69038",
   "metadata": {},
   "outputs": [
    {
     "data": {
      "text/plain": [
       "12"
      ]
     },
     "execution_count": 21,
     "metadata": {},
     "output_type": "execute_result"
    }
   ],
   "source": [
    "ReLU(12)"
   ]
  },
  {
   "cell_type": "code",
   "execution_count": 22,
   "id": "97e3ab32",
   "metadata": {},
   "outputs": [
    {
     "data": {
      "text/plain": [
       "0"
      ]
     },
     "execution_count": 22,
     "metadata": {},
     "output_type": "execute_result"
    }
   ],
   "source": [
    "ReLU(-45)"
   ]
  },
  {
   "cell_type": "code",
   "execution_count": 23,
   "id": "963da290",
   "metadata": {},
   "outputs": [
    {
     "data": {
      "text/plain": [
       "0"
      ]
     },
     "execution_count": 23,
     "metadata": {},
     "output_type": "execute_result"
    }
   ],
   "source": [
    "ReLU(-1)"
   ]
  },
  {
   "cell_type": "code",
   "execution_count": 25,
   "id": "faa10751",
   "metadata": {},
   "outputs": [
    {
     "data": {
      "text/plain": [
       "0"
      ]
     },
     "execution_count": 25,
     "metadata": {},
     "output_type": "execute_result"
    }
   ],
   "source": [
    "ReLU(-0.89)"
   ]
  },
  {
   "cell_type": "markdown",
   "id": "dad5098b",
   "metadata": {},
   "source": [
    "## Leaky ReLU function"
   ]
  },
  {
   "cell_type": "code",
   "execution_count": 27,
   "id": "10e4f4f0",
   "metadata": {},
   "outputs": [],
   "source": [
    "def Leaky_ReLU(z):\n",
    "    return max(0.1*z,z)"
   ]
  },
  {
   "cell_type": "code",
   "execution_count": 28,
   "id": "c1008744",
   "metadata": {},
   "outputs": [
    {
     "data": {
      "text/plain": [
       "23"
      ]
     },
     "execution_count": 28,
     "metadata": {},
     "output_type": "execute_result"
    }
   ],
   "source": [
    "Leaky_ReLU(23)"
   ]
  },
  {
   "cell_type": "code",
   "execution_count": 29,
   "id": "e50e9f00",
   "metadata": {},
   "outputs": [
    {
     "data": {
      "text/plain": [
       "0.0"
      ]
     },
     "execution_count": 29,
     "metadata": {},
     "output_type": "execute_result"
    }
   ],
   "source": [
    "Leaky_ReLU(0)"
   ]
  },
  {
   "cell_type": "code",
   "execution_count": 30,
   "id": "d3f78e6e",
   "metadata": {},
   "outputs": [
    {
     "data": {
      "text/plain": [
       "-0.098"
      ]
     },
     "execution_count": 30,
     "metadata": {},
     "output_type": "execute_result"
    }
   ],
   "source": [
    "Leaky_ReLU(-0.98)"
   ]
  },
  {
   "cell_type": "code",
   "execution_count": 31,
   "id": "50bd72c6",
   "metadata": {},
   "outputs": [
    {
     "data": {
      "text/plain": [
       "-78.9"
      ]
     },
     "execution_count": 31,
     "metadata": {},
     "output_type": "execute_result"
    }
   ],
   "source": [
    "Leaky_ReLU(-789)"
   ]
  }
 ],
 "metadata": {
  "kernelspec": {
   "display_name": "Python 3 (ipykernel)",
   "language": "python",
   "name": "python3"
  },
  "language_info": {
   "codemirror_mode": {
    "name": "ipython",
    "version": 3
   },
   "file_extension": ".py",
   "mimetype": "text/x-python",
   "name": "python",
   "nbconvert_exporter": "python",
   "pygments_lexer": "ipython3",
   "version": "3.7.10"
  }
 },
 "nbformat": 4,
 "nbformat_minor": 5
}
